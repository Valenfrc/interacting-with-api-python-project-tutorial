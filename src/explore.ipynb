{
    "cells": [
        {
            "cell_type": "markdown",
            "metadata": {},
            "source": [
                "# Explore here"
            ]
        },
        {
            "cell_type": "code",
            "execution_count": 1,
            "metadata": {},
            "outputs": [
                {
                    "name": "stdout",
                    "output_type": "stream",
                    "text": [
                        "a97f475853ab4953a21b2037d406964e\n"
                    ]
                }
            ],
            "source": [
                "import os\n",
                "import pandas as pd\n",
                "import seaborn as sns\n",
                "from dotenv import load_dotenv\n",
                "\n",
                "# load the .env file variables\n",
                "load_dotenv()\n",
                "\n",
                "client_id = os.getenv('CLIENT_ID')\n",
                "client_secret=os.getenv('CLIENT_SECRET')\n",
                "print(client_id)\n",
                "\n",
                "\n"
            ]
        },
        {
            "cell_type": "code",
            "execution_count": 2,
            "metadata": {},
            "outputs": [],
            "source": [
                "import spotipy\n",
                "from spotipy.oauth2 import SpotifyClientCredentials\n",
                "\n",
                "con=spotipy.Spotify(auth_manager=SpotifyClientCredentials(client_id=client_id,client_secret=client_secret))"
            ]
        },
        {
            "cell_type": "code",
            "execution_count": 3,
            "metadata": {},
            "outputs": [
                {
                    "name": "stdout",
                    "output_type": "stream",
                    "text": [
                        "{'tracks': [{'album': {'album_type': 'album', 'artists': [{'external_urls': {'spotify': 'https://open.spotify.com/artist/5YGY8feqx7naU7z4HrwZM6'}, 'href': 'https://api.spotify.com/v1/artists/5YGY8feqx7naU7z4HrwZM6', 'id': '5YGY8feqx7naU7z4HrwZM6', 'name': 'Miley Cyrus', 'type': 'artist', 'uri': 'spotify:artist:5YGY8feqx7naU7z4HrwZM6'}], 'available_markets': ['AR', 'AU', 'AT', 'BE', 'BO', 'BR', 'BG', 'CA', 'CL', 'CO', 'CR', 'CY', 'CZ', 'DK', 'DO', 'DE', 'EC', 'EE', 'SV', 'FI', 'FR', 'GR', 'GT', 'HN', 'HK', 'HU', 'IS', 'IE', 'IT', 'LV', 'LT', 'LU', 'MY', 'MT', 'MX', 'NL', 'NZ', 'NI', 'NO', 'PA', 'PY', 'PE', 'PH', 'PL', 'PT', 'SG', 'SK', 'ES', 'SE', 'CH', 'TW', 'TR', 'UY', 'US', 'GB', 'AD', 'LI', 'MC', 'ID', 'JP', 'TH', 'VN', 'RO', 'IL', 'ZA', 'SA', 'AE', 'BH', 'QA', 'OM', 'KW', 'EG', 'MA', 'DZ', 'TN', 'LB', 'JO', 'PS', 'IN', 'BY', 'KZ', 'MD', 'UA', 'AL', 'BA', 'HR', 'ME', 'MK', 'RS', 'SI', 'KR', 'BD', 'PK', 'LK', 'GH', 'KE', 'NG', 'TZ', 'UG', 'AG', 'AM', 'BS', 'BB', 'BZ', 'BT', 'BW', 'BF', 'CV', 'CW', 'DM', 'FJ', 'GM', 'GE', 'GD', 'GW', 'GY', 'HT', 'JM', 'KI', 'LS', 'LR', 'MW', 'MV', 'ML', 'MH', 'FM', 'NA', 'NR', 'NE', 'PW', 'PG', 'PR', 'WS', 'SM', 'ST', 'SN', 'SC', 'SL', 'SB', 'KN', 'LC', 'VC', 'SR', 'TL', 'TO', 'TT', 'TV', 'VU', 'AZ', 'BN', 'BI', 'KH', 'CM', 'TD', 'KM', 'GQ', 'SZ', 'GA', 'GN', 'KG', 'LA', 'MO', 'MR', 'MN', 'NP', 'RW', 'TG', 'UZ', 'ZW', 'BJ', 'MG', 'MU', 'MZ', 'AO', 'CI', 'DJ', 'ZM', 'CD', 'CG', 'IQ', 'LY', 'TJ', 'VE', 'ET', 'XK'], 'external_urls': {'spotify': 'https://open.spotify.com/album/5DvJgsMLbaR1HmAI6VhfcQ'}, 'href': 'https://api.spotify.com/v1/albums/5DvJgsMLbaR1HmAI6VhfcQ', 'id': '5DvJgsMLbaR1HmAI6VhfcQ', 'images': [{'url': 'https://i.scdn.co/image/ab67616d0000b273cd222052a2594be29a6616b5', 'height': 640, 'width': 640}, {'url': 'https://i.scdn.co/image/ab67616d00001e02cd222052a2594be29a6616b5', 'height': 300, 'width': 300}, {'url': 'https://i.scdn.co/image/ab67616d00004851cd222052a2594be29a6616b5', 'height': 64, 'width': 64}], 'is_playable': True, 'name': 'Endless Summer Vacation', 'release_date': '2023-08-18', 'release_date_precision': 'day', 'total_tracks': 14, 'type': 'album', 'uri': 'spotify:album:5DvJgsMLbaR1HmAI6VhfcQ'}, 'artists': [{'external_urls': {'spotify': 'https://open.spotify.com/artist/5YGY8feqx7naU7z4HrwZM6'}, 'href': 'https://api.spotify.com/v1/artists/5YGY8feqx7naU7z4HrwZM6', 'id': '5YGY8feqx7naU7z4HrwZM6', 'name': 'Miley Cyrus', 'type': 'artist', 'uri': 'spotify:artist:5YGY8feqx7naU7z4HrwZM6'}], 'available_markets': ['AR', 'AU', 'AT', 'BE', 'BO', 'BR', 'BG', 'CA', 'CL', 'CO', 'CR', 'CY', 'CZ', 'DK', 'DO', 'DE', 'EC', 'EE', 'SV', 'FI', 'FR', 'GR', 'GT', 'HN', 'HK', 'HU', 'IS', 'IE', 'IT', 'LV', 'LT', 'LU', 'MY', 'MT', 'MX', 'NL', 'NZ', 'NI', 'NO', 'PA', 'PY', 'PE', 'PH', 'PL', 'PT', 'SG', 'SK', 'ES', 'SE', 'CH', 'TW', 'TR', 'UY', 'US', 'GB', 'AD', 'LI', 'MC', 'ID', 'JP', 'TH', 'VN', 'RO', 'IL', 'ZA', 'SA', 'AE', 'BH', 'QA', 'OM', 'KW', 'EG', 'MA', 'DZ', 'TN', 'LB', 'JO', 'PS', 'IN', 'BY', 'KZ', 'MD', 'UA', 'AL', 'BA', 'HR', 'ME', 'MK', 'RS', 'SI', 'KR', 'BD', 'PK', 'LK', 'GH', 'KE', 'NG', 'TZ', 'UG', 'AG', 'AM', 'BS', 'BB', 'BZ', 'BT', 'BW', 'BF', 'CV', 'CW', 'DM', 'FJ', 'GM', 'GE', 'GD', 'GW', 'GY', 'HT', 'JM', 'KI', 'LS', 'LR', 'MW', 'MV', 'ML', 'MH', 'FM', 'NA', 'NR', 'NE', 'PW', 'PG', 'PR', 'WS', 'SM', 'ST', 'SN', 'SC', 'SL', 'SB', 'KN', 'LC', 'VC', 'SR', 'TL', 'TO', 'TT', 'TV', 'VU', 'AZ', 'BN', 'BI', 'KH', 'CM', 'TD', 'KM', 'GQ', 'SZ', 'GA', 'GN', 'KG', 'LA', 'MO', 'MR', 'MN', 'NP', 'RW', 'TG', 'UZ', 'ZW', 'BJ', 'MG', 'MU', 'MZ', 'AO', 'CI', 'DJ', 'ZM', 'CD', 'CG', 'IQ', 'LY', 'TJ', 'VE', 'ET', 'XK'], 'disc_number': 1, 'duration_ms': 200600, 'explicit': False, 'external_ids': {'isrc': 'USSM12209777'}, 'external_urls': {'spotify': 'https://open.spotify.com/track/7DSAEUvxU8FajXtRloy8M0'}, 'href': 'https://api.spotify.com/v1/tracks/7DSAEUvxU8FajXtRloy8M0', 'id': '7DSAEUvxU8FajXtRloy8M0', 'is_local': False, 'is_playable': True, 'name': 'Flowers', 'popularity': 86, 'preview_url': None, 'track_number': 1, 'type': 'track', 'uri': 'spotify:track:7DSAEUvxU8FajXtRloy8M0'}, {'album': {'album_type': 'album', 'artists': [{'external_urls': {'spotify': 'https://open.spotify.com/artist/5YGY8feqx7naU7z4HrwZM6'}, 'href': 'https://api.spotify.com/v1/artists/5YGY8feqx7naU7z4HrwZM6', 'id': '5YGY8feqx7naU7z4HrwZM6', 'name': 'Miley Cyrus', 'type': 'artist', 'uri': 'spotify:artist:5YGY8feqx7naU7z4HrwZM6'}], 'available_markets': ['CA', 'US'], 'external_urls': {'spotify': 'https://open.spotify.com/album/64aKkqxc3Ur2LYIKeS5osS'}, 'href': 'https://api.spotify.com/v1/albums/64aKkqxc3Ur2LYIKeS5osS', 'id': '64aKkqxc3Ur2LYIKeS5osS', 'images': [{'url': 'https://i.scdn.co/image/ab67616d0000b273d6c3ad6a2a27471e1d5e8103', 'height': 640, 'width': 640}, {'url': 'https://i.scdn.co/image/ab67616d00001e02d6c3ad6a2a27471e1d5e8103', 'height': 300, 'width': 300}, {'url': 'https://i.scdn.co/image/ab67616d00004851d6c3ad6a2a27471e1d5e8103', 'height': 64, 'width': 64}], 'is_playable': True, 'name': 'The Time Of Our Lives', 'release_date': '2009-01-01', 'release_date_precision': 'day', 'total_tracks': 7, 'type': 'album', 'uri': 'spotify:album:64aKkqxc3Ur2LYIKeS5osS'}, 'artists': [{'external_urls': {'spotify': 'https://open.spotify.com/artist/5YGY8feqx7naU7z4HrwZM6'}, 'href': 'https://api.spotify.com/v1/artists/5YGY8feqx7naU7z4HrwZM6', 'id': '5YGY8feqx7naU7z4HrwZM6', 'name': 'Miley Cyrus', 'type': 'artist', 'uri': 'spotify:artist:5YGY8feqx7naU7z4HrwZM6'}], 'available_markets': ['CA', 'US'], 'disc_number': 1, 'duration_ms': 202066, 'explicit': False, 'external_ids': {'isrc': 'USHR10924519'}, 'external_urls': {'spotify': 'https://open.spotify.com/track/5Q0Nhxo0l2bP3pNjpGJwV1'}, 'href': 'https://api.spotify.com/v1/tracks/5Q0Nhxo0l2bP3pNjpGJwV1', 'id': '5Q0Nhxo0l2bP3pNjpGJwV1', 'is_local': False, 'is_playable': True, 'name': 'Party In The U.S.A.', 'popularity': 74, 'preview_url': None, 'track_number': 2, 'type': 'track', 'uri': 'spotify:track:5Q0Nhxo0l2bP3pNjpGJwV1'}, {'album': {'album_type': 'album', 'artists': [{'external_urls': {'spotify': 'https://open.spotify.com/artist/5YGY8feqx7naU7z4HrwZM6'}, 'href': 'https://api.spotify.com/v1/artists/5YGY8feqx7naU7z4HrwZM6', 'id': '5YGY8feqx7naU7z4HrwZM6', 'name': 'Miley Cyrus', 'type': 'artist', 'uri': 'spotify:artist:5YGY8feqx7naU7z4HrwZM6'}], 'available_markets': ['AR', 'AU', 'AT', 'BE', 'BO', 'BR', 'BG', 'CA', 'CL', 'CO', 'CR', 'CY', 'CZ', 'DK', 'DO', 'DE', 'EC', 'EE', 'SV', 'FI', 'FR', 'GR', 'GT', 'HN', 'HK', 'HU', 'IS', 'IE', 'IT', 'LV', 'LT', 'LU', 'MY', 'MT', 'MX', 'NL', 'NZ', 'NI', 'NO', 'PA', 'PY', 'PE', 'PH', 'PL', 'PT', 'SG', 'SK', 'ES', 'SE', 'CH', 'TW', 'TR', 'UY', 'US', 'GB', 'AD', 'LI', 'MC', 'ID', 'JP', 'TH', 'VN', 'RO', 'IL', 'ZA', 'SA', 'AE', 'BH', 'QA', 'OM', 'KW', 'EG', 'MA', 'DZ', 'TN', 'LB', 'JO', 'PS', 'IN', 'BY', 'KZ', 'MD', 'UA', 'AL', 'BA', 'HR', 'ME', 'MK', 'RS', 'SI', 'KR', 'BD', 'PK', 'LK', 'GH', 'KE', 'NG', 'TZ', 'UG', 'AG', 'AM', 'BS', 'BB', 'BZ', 'BT', 'BW', 'BF', 'CV', 'CW', 'DM', 'FJ', 'GM', 'GE', 'GD', 'GW', 'GY', 'HT', 'JM', 'KI', 'LS', 'LR', 'MW', 'MV', 'ML', 'MH', 'FM', 'NA', 'NR', 'NE', 'PW', 'PG', 'PR', 'WS', 'SM', 'ST', 'SN', 'SC', 'SL', 'SB', 'KN', 'LC', 'VC', 'SR', 'TL', 'TO', 'TT', 'TV', 'VU', 'AZ', 'BN', 'BI', 'KH', 'CM', 'TD', 'KM', 'GQ', 'SZ', 'GA', 'GN', 'KG', 'LA', 'MO', 'MR', 'MN', 'NP', 'RW', 'TG', 'UZ', 'ZW', 'BJ', 'MG', 'MU', 'MZ', 'AO', 'CI', 'DJ', 'ZM', 'CD', 'CG', 'IQ', 'LY', 'TJ', 'VE', 'ET', 'XK'], 'external_urls': {'spotify': 'https://open.spotify.com/album/5BRhg6NSEZOj0BR6Iz56fR'}, 'href': 'https://api.spotify.com/v1/albums/5BRhg6NSEZOj0BR6Iz56fR', 'id': '5BRhg6NSEZOj0BR6Iz56fR', 'images': [{'url': 'https://i.scdn.co/image/ab67616d0000b2738cffb7c6c40759eaf8a5a142', 'height': 640, 'width': 640}, {'url': 'https://i.scdn.co/image/ab67616d00001e028cffb7c6c40759eaf8a5a142', 'height': 300, 'width': 300}, {'url': 'https://i.scdn.co/image/ab67616d000048518cffb7c6c40759eaf8a5a142', 'height': 64, 'width': 64}], 'is_playable': True, 'name': 'Plastic Hearts', 'release_date': '2020-11-27', 'release_date_precision': 'day', 'total_tracks': 15, 'type': 'album', 'uri': 'spotify:album:5BRhg6NSEZOj0BR6Iz56fR'}, 'artists': [{'external_urls': {'spotify': 'https://open.spotify.com/artist/5YGY8feqx7naU7z4HrwZM6'}, 'href': 'https://api.spotify.com/v1/artists/5YGY8feqx7naU7z4HrwZM6', 'id': '5YGY8feqx7naU7z4HrwZM6', 'name': 'Miley Cyrus', 'type': 'artist', 'uri': 'spotify:artist:5YGY8feqx7naU7z4HrwZM6'}], 'available_markets': ['AR', 'AU', 'AT', 'BE', 'BO', 'BR', 'BG', 'CA', 'CL', 'CO', 'CR', 'CY', 'CZ', 'DK', 'DO', 'DE', 'EC', 'EE', 'SV', 'FI', 'FR', 'GR', 'GT', 'HN', 'HK', 'HU', 'IS', 'IE', 'IT', 'LV', 'LT', 'LU', 'MY', 'MT', 'MX', 'NL', 'NZ', 'NI', 'NO', 'PA', 'PY', 'PE', 'PH', 'PL', 'PT', 'SG', 'SK', 'ES', 'SE', 'CH', 'TW', 'TR', 'UY', 'US', 'GB', 'AD', 'LI', 'MC', 'ID', 'JP', 'TH', 'VN', 'RO', 'IL', 'ZA', 'SA', 'AE', 'BH', 'QA', 'OM', 'KW', 'EG', 'MA', 'DZ', 'TN', 'LB', 'JO', 'PS', 'IN', 'BY', 'KZ', 'MD', 'UA', 'AL', 'BA', 'HR', 'ME', 'MK', 'RS', 'SI', 'KR', 'BD', 'PK', 'LK', 'GH', 'KE', 'NG', 'TZ', 'UG', 'AG', 'AM', 'BS', 'BB', 'BZ', 'BT', 'BW', 'BF', 'CV', 'CW', 'DM', 'FJ', 'GM', 'GE', 'GD', 'GW', 'GY', 'HT', 'JM', 'KI', 'LS', 'LR', 'MW', 'MV', 'ML', 'MH', 'FM', 'NA', 'NR', 'NE', 'PW', 'PG', 'PR', 'WS', 'SM', 'ST', 'SN', 'SC', 'SL', 'SB', 'KN', 'LC', 'VC', 'SR', 'TL', 'TO', 'TT', 'TV', 'VU', 'AZ', 'BN', 'BI', 'KH', 'CM', 'TD', 'KM', 'GQ', 'SZ', 'GA', 'GN', 'KG', 'LA', 'MO', 'MR', 'MN', 'NP', 'RW', 'TG', 'UZ', 'ZW', 'BJ', 'MG', 'MU', 'MZ', 'AO', 'CI', 'DJ', 'ZM', 'CD', 'CG', 'IQ', 'LY', 'TJ', 'VE', 'ET', 'XK'], 'disc_number': 1, 'duration_ms': 196453, 'explicit': False, 'external_ids': {'isrc': 'USRC12003754'}, 'external_urls': {'spotify': 'https://open.spotify.com/track/1daDRI9ahBonbWD8YcxOIB'}, 'href': 'https://api.spotify.com/v1/tracks/1daDRI9ahBonbWD8YcxOIB', 'id': '1daDRI9ahBonbWD8YcxOIB', 'is_local': False, 'is_playable': True, 'name': 'Angels Like You', 'popularity': 79, 'preview_url': None, 'track_number': 3, 'type': 'track', 'uri': 'spotify:track:1daDRI9ahBonbWD8YcxOIB'}, {'album': {'album_type': 'album', 'artists': [{'external_urls': {'spotify': 'https://open.spotify.com/artist/3hv9jJF3adDNsBSIQDqcjp'}, 'href': 'https://api.spotify.com/v1/artists/3hv9jJF3adDNsBSIQDqcjp', 'id': '3hv9jJF3adDNsBSIQDqcjp', 'name': 'Mark Ronson', 'type': 'artist', 'uri': 'spotify:artist:3hv9jJF3adDNsBSIQDqcjp'}], 'available_markets': ['AR', 'AU', 'AT', 'BE', 'BO', 'BR', 'BG', 'CA', 'CL', 'CO', 'CR', 'CY', 'CZ', 'DK', 'DO', 'DE', 'EC', 'EE', 'SV', 'FI', 'FR', 'GR', 'GT', 'HN', 'HK', 'HU', 'IS', 'IE', 'IT', 'LV', 'LT', 'LU', 'MY', 'MT', 'MX', 'NL', 'NZ', 'NI', 'NO', 'PA', 'PY', 'PE', 'PH', 'PL', 'PT', 'SG', 'SK', 'ES', 'SE', 'CH', 'TW', 'TR', 'UY', 'US', 'GB', 'AD', 'LI', 'MC', 'ID', 'JP', 'TH', 'VN', 'RO', 'IL', 'ZA', 'SA', 'AE', 'BH', 'QA', 'OM', 'KW', 'EG', 'MA', 'DZ', 'TN', 'LB', 'JO', 'PS', 'IN', 'BY', 'KZ', 'MD', 'UA', 'AL', 'BA', 'HR', 'ME', 'MK', 'RS', 'SI', 'KR', 'BD', 'PK', 'LK', 'GH', 'KE', 'NG', 'TZ', 'UG', 'AG', 'AM', 'BS', 'BB', 'BZ', 'BT', 'BW', 'BF', 'CV', 'CW', 'DM', 'FJ', 'GM', 'GE', 'GD', 'GW', 'GY', 'HT', 'JM', 'KI', 'LS', 'LR', 'MW', 'MV', 'ML', 'MH', 'FM', 'NA', 'NR', 'NE', 'PW', 'PG', 'PR', 'WS', 'SM', 'ST', 'SN', 'SC', 'SL', 'SB', 'KN', 'LC', 'VC', 'SR', 'TL', 'TO', 'TT', 'TV', 'VU', 'AZ', 'BN', 'BI', 'KH', 'CM', 'TD', 'KM', 'GQ', 'SZ', 'GA', 'GN', 'KG', 'LA', 'MO', 'MR', 'MN', 'NP', 'RW', 'TG', 'UZ', 'ZW', 'BJ', 'MG', 'MU', 'MZ', 'AO', 'CI', 'DJ', 'ZM', 'CD', 'CG', 'IQ', 'LY', 'TJ', 'VE', 'ET', 'XK'], 'external_urls': {'spotify': 'https://open.spotify.com/album/6vdLdzihSWxV8FgWU2GSvA'}, 'href': 'https://api.spotify.com/v1/albums/6vdLdzihSWxV8FgWU2GSvA', 'id': '6vdLdzihSWxV8FgWU2GSvA', 'images': [{'url': 'https://i.scdn.co/image/ab67616d0000b273de087ae2924d2c1654f60d74', 'height': 640, 'width': 640}, {'url': 'https://i.scdn.co/image/ab67616d00001e02de087ae2924d2c1654f60d74', 'height': 300, 'width': 300}, {'url': 'https://i.scdn.co/image/ab67616d00004851de087ae2924d2c1654f60d74', 'height': 64, 'width': 64}], 'is_playable': True, 'name': 'Late Night Feelings', 'release_date': '2019-06-21', 'release_date_precision': 'day', 'total_tracks': 13, 'type': 'album', 'uri': 'spotify:album:6vdLdzihSWxV8FgWU2GSvA'}, 'artists': [{'external_urls': {'spotify': 'https://open.spotify.com/artist/3hv9jJF3adDNsBSIQDqcjp'}, 'href': 'https://api.spotify.com/v1/artists/3hv9jJF3adDNsBSIQDqcjp', 'id': '3hv9jJF3adDNsBSIQDqcjp', 'name': 'Mark Ronson', 'type': 'artist', 'uri': 'spotify:artist:3hv9jJF3adDNsBSIQDqcjp'}, {'external_urls': {'spotify': 'https://open.spotify.com/artist/5YGY8feqx7naU7z4HrwZM6'}, 'href': 'https://api.spotify.com/v1/artists/5YGY8feqx7naU7z4HrwZM6', 'id': '5YGY8feqx7naU7z4HrwZM6', 'name': 'Miley Cyrus', 'type': 'artist', 'uri': 'spotify:artist:5YGY8feqx7naU7z4HrwZM6'}], 'available_markets': ['AR', 'AU', 'AT', 'BE', 'BO', 'BR', 'BG', 'CA', 'CL', 'CO', 'CR', 'CY', 'CZ', 'DK', 'DO', 'DE', 'EC', 'EE', 'SV', 'FI', 'FR', 'GR', 'GT', 'HN', 'HK', 'HU', 'IS', 'IE', 'IT', 'LV', 'LT', 'LU', 'MY', 'MT', 'MX', 'NL', 'NZ', 'NI', 'NO', 'PA', 'PY', 'PE', 'PH', 'PL', 'PT', 'SG', 'SK', 'ES', 'SE', 'CH', 'TW', 'TR', 'UY', 'US', 'GB', 'AD', 'LI', 'MC', 'ID', 'JP', 'TH', 'VN', 'RO', 'IL', 'ZA', 'SA', 'AE', 'BH', 'QA', 'OM', 'KW', 'EG', 'MA', 'DZ', 'TN', 'LB', 'JO', 'PS', 'IN', 'BY', 'KZ', 'MD', 'UA', 'AL', 'BA', 'HR', 'ME', 'MK', 'RS', 'SI', 'KR', 'BD', 'PK', 'LK', 'GH', 'KE', 'NG', 'TZ', 'UG', 'AG', 'AM', 'BS', 'BB', 'BZ', 'BT', 'BW', 'BF', 'CV', 'CW', 'DM', 'FJ', 'GM', 'GE', 'GD', 'GW', 'GY', 'HT', 'JM', 'KI', 'LS', 'LR', 'MW', 'MV', 'ML', 'MH', 'FM', 'NA', 'NR', 'NE', 'PW', 'PG', 'PR', 'WS', 'SM', 'ST', 'SN', 'SC', 'SL', 'SB', 'KN', 'LC', 'VC', 'SR', 'TL', 'TO', 'TT', 'TV', 'VU', 'AZ', 'BN', 'BI', 'KH', 'CM', 'TD', 'KM', 'GQ', 'SZ', 'GA', 'GN', 'KG', 'LA', 'MO', 'MR', 'MN', 'NP', 'RW', 'TG', 'UZ', 'ZW', 'BJ', 'MG', 'MU', 'MZ', 'AO', 'CI', 'DJ', 'ZM', 'CD', 'CG', 'IQ', 'LY', 'TJ', 'VE', 'ET', 'XK'], 'disc_number': 1, 'duration_ms': 217099, 'explicit': False, 'external_ids': {'isrc': 'GBARL1801571'}, 'external_urls': {'spotify': 'https://open.spotify.com/track/02dRkCEc8Q5ch4TTcnLxOn'}, 'href': 'https://api.spotify.com/v1/tracks/02dRkCEc8Q5ch4TTcnLxOn', 'id': '02dRkCEc8Q5ch4TTcnLxOn', 'is_local': False, 'is_playable': True, 'name': 'Nothing Breaks Like a Heart (feat. Miley Cyrus)', 'popularity': 76, 'preview_url': None, 'track_number': 9, 'type': 'track', 'uri': 'spotify:track:02dRkCEc8Q5ch4TTcnLxOn'}, {'album': {'album_type': 'album', 'artists': [{'external_urls': {'spotify': 'https://open.spotify.com/artist/5YGY8feqx7naU7z4HrwZM6'}, 'href': 'https://api.spotify.com/v1/artists/5YGY8feqx7naU7z4HrwZM6', 'id': '5YGY8feqx7naU7z4HrwZM6', 'name': 'Miley Cyrus', 'type': 'artist', 'uri': 'spotify:artist:5YGY8feqx7naU7z4HrwZM6'}], 'available_markets': ['AR', 'AU', 'AT', 'BE', 'BO', 'BR', 'BG', 'CA', 'CL', 'CO', 'CR', 'CY', 'CZ', 'DK', 'DO', 'DE', 'EC', 'EE', 'SV', 'FI', 'FR', 'GR', 'GT', 'HN', 'HK', 'HU', 'IS', 'IE', 'IT', 'LV', 'LT', 'LU', 'MY', 'MT', 'MX', 'NL', 'NZ', 'NI', 'NO', 'PA', 'PY', 'PE', 'PH', 'PL', 'PT', 'SG', 'SK', 'ES', 'SE', 'CH', 'TW', 'TR', 'UY', 'US', 'GB', 'AD', 'LI', 'MC', 'ID', 'JP', 'TH', 'VN', 'RO', 'IL', 'ZA', 'SA', 'AE', 'BH', 'QA', 'OM', 'KW', 'EG', 'MA', 'DZ', 'TN', 'LB', 'JO', 'PS', 'IN', 'BY', 'KZ', 'MD', 'UA', 'AL', 'BA', 'HR', 'ME', 'MK', 'RS', 'SI', 'KR', 'BD', 'PK', 'LK', 'GH', 'KE', 'NG', 'TZ', 'UG', 'AG', 'AM', 'BS', 'BB', 'BZ', 'BT', 'BW', 'BF', 'CV', 'CW', 'DM', 'FJ', 'GM', 'GE', 'GD', 'GW', 'GY', 'HT', 'JM', 'KI', 'LS', 'LR', 'MW', 'MV', 'ML', 'MH', 'FM', 'NA', 'NR', 'NE', 'PW', 'PG', 'PR', 'WS', 'SM', 'ST', 'SN', 'SC', 'SL', 'SB', 'KN', 'LC', 'VC', 'SR', 'TL', 'TO', 'TT', 'TV', 'VU', 'AZ', 'BN', 'BI', 'KH', 'CM', 'TD', 'KM', 'GQ', 'SZ', 'GA', 'GN', 'KG', 'LA', 'MO', 'MR', 'MN', 'NP', 'RW', 'TG', 'UZ', 'ZW', 'BJ', 'MG', 'MU', 'MZ', 'AO', 'CI', 'DJ', 'ZM', 'CD', 'CG', 'IQ', 'LY', 'TJ', 'VE', 'ET', 'XK'], 'external_urls': {'spotify': 'https://open.spotify.com/album/3RDqXDc1bAETps54MSSOW0'}, 'href': 'https://api.spotify.com/v1/albums/3RDqXDc1bAETps54MSSOW0', 'id': '3RDqXDc1bAETps54MSSOW0', 'images': [{'url': 'https://i.scdn.co/image/ab67616d0000b2736b18d0490878750cd69abf2c', 'height': 640, 'width': 640}, {'url': 'https://i.scdn.co/image/ab67616d00001e026b18d0490878750cd69abf2c', 'height': 300, 'width': 300}, {'url': 'https://i.scdn.co/image/ab67616d000048516b18d0490878750cd69abf2c', 'height': 64, 'width': 64}], 'is_playable': True, 'name': 'Bangerz (Deluxe Version)', 'release_date': '2013-10-04', 'release_date_precision': 'day', 'total_tracks': 16, 'type': 'album', 'uri': 'spotify:album:3RDqXDc1bAETps54MSSOW0'}, 'artists': [{'external_urls': {'spotify': 'https://open.spotify.com/artist/5YGY8feqx7naU7z4HrwZM6'}, 'href': 'https://api.spotify.com/v1/artists/5YGY8feqx7naU7z4HrwZM6', 'id': '5YGY8feqx7naU7z4HrwZM6', 'name': 'Miley Cyrus', 'type': 'artist', 'uri': 'spotify:artist:5YGY8feqx7naU7z4HrwZM6'}], 'available_markets': ['AR', 'AU', 'AT', 'BE', 'BO', 'BR', 'BG', 'CA', 'CL', 'CO', 'CR', 'CY', 'CZ', 'DK', 'DO', 'DE', 'EC', 'EE', 'SV', 'FI', 'FR', 'GR', 'GT', 'HN', 'HK', 'HU', 'IS', 'IE', 'IT', 'LV', 'LT', 'LU', 'MY', 'MT', 'MX', 'NL', 'NZ', 'NI', 'NO', 'PA', 'PY', 'PE', 'PH', 'PL', 'PT', 'SG', 'SK', 'ES', 'SE', 'CH', 'TW', 'TR', 'UY', 'US', 'GB', 'AD', 'LI', 'MC', 'ID', 'JP', 'TH', 'VN', 'RO', 'IL', 'ZA', 'SA', 'AE', 'BH', 'QA', 'OM', 'KW', 'EG', 'MA', 'DZ', 'TN', 'LB', 'JO', 'PS', 'IN', 'BY', 'KZ', 'MD', 'UA', 'AL', 'BA', 'HR', 'ME', 'MK', 'RS', 'SI', 'KR', 'BD', 'PK', 'LK', 'GH', 'KE', 'NG', 'TZ', 'UG', 'AG', 'AM', 'BS', 'BB', 'BZ', 'BT', 'BW', 'BF', 'CV', 'CW', 'DM', 'FJ', 'GM', 'GE', 'GD', 'GW', 'GY', 'HT', 'JM', 'KI', 'LS', 'LR', 'MW', 'MV', 'ML', 'MH', 'FM', 'NA', 'NR', 'NE', 'PW', 'PG', 'PR', 'WS', 'SM', 'ST', 'SN', 'SC', 'SL', 'SB', 'KN', 'LC', 'VC', 'SR', 'TL', 'TO', 'TT', 'TV', 'VU', 'AZ', 'BN', 'BI', 'KH', 'CM', 'TD', 'KM', 'GQ', 'SZ', 'GA', 'GN', 'KG', 'LA', 'MO', 'MR', 'MN', 'NP', 'RW', 'TG', 'UZ', 'ZW', 'BJ', 'MG', 'MU', 'MZ', 'AO', 'CI', 'DJ', 'ZM', 'CD', 'CG', 'IQ', 'LY', 'TJ', 'VE', 'ET', 'XK'], 'disc_number': 1, 'duration_ms': 231240, 'explicit': False, 'external_ids': {'isrc': 'USRC11300686'}, 'external_urls': {'spotify': 'https://open.spotify.com/track/2y4lAQpi5VTNLu2ldeTdUH'}, 'href': 'https://api.spotify.com/v1/tracks/2y4lAQpi5VTNLu2ldeTdUH', 'id': '2y4lAQpi5VTNLu2ldeTdUH', 'is_local': False, 'is_playable': True, 'name': \"We Can't Stop\", 'popularity': 78, 'preview_url': None, 'track_number': 2, 'type': 'track', 'uri': 'spotify:track:2y4lAQpi5VTNLu2ldeTdUH'}, {'album': {'album_type': 'album', 'artists': [{'external_urls': {'spotify': 'https://open.spotify.com/artist/5YGY8feqx7naU7z4HrwZM6'}, 'href': 'https://api.spotify.com/v1/artists/5YGY8feqx7naU7z4HrwZM6', 'id': '5YGY8feqx7naU7z4HrwZM6', 'name': 'Miley Cyrus', 'type': 'artist', 'uri': 'spotify:artist:5YGY8feqx7naU7z4HrwZM6'}], 'available_markets': ['AR', 'AU', 'AT', 'BE', 'BO', 'BR', 'BG', 'CA', 'CL', 'CO', 'CR', 'CY', 'CZ', 'DK', 'DO', 'DE', 'EC', 'EE', 'SV', 'FI', 'FR', 'GR', 'GT', 'HN', 'HK', 'HU', 'IS', 'IE', 'IT', 'LV', 'LT', 'LU', 'MY', 'MT', 'MX', 'NL', 'NZ', 'NI', 'NO', 'PA', 'PY', 'PE', 'PH', 'PL', 'PT', 'SG', 'SK', 'ES', 'SE', 'CH', 'TW', 'TR', 'UY', 'US', 'GB', 'AD', 'LI', 'MC', 'ID', 'JP', 'TH', 'VN', 'RO', 'IL', 'ZA', 'SA', 'AE', 'BH', 'QA', 'OM', 'KW', 'EG', 'MA', 'DZ', 'TN', 'LB', 'JO', 'PS', 'IN', 'BY', 'KZ', 'MD', 'UA', 'AL', 'BA', 'HR', 'ME', 'MK', 'RS', 'SI', 'KR', 'BD', 'PK', 'LK', 'GH', 'KE', 'NG', 'TZ', 'UG', 'AG', 'AM', 'BS', 'BB', 'BZ', 'BT', 'BW', 'BF', 'CV', 'CW', 'DM', 'FJ', 'GM', 'GE', 'GD', 'GW', 'GY', 'HT', 'JM', 'KI', 'LS', 'LR', 'MW', 'MV', 'ML', 'MH', 'FM', 'NA', 'NR', 'NE', 'PW', 'PG', 'PR', 'WS', 'SM', 'ST', 'SN', 'SC', 'SL', 'SB', 'KN', 'LC', 'VC', 'SR', 'TL', 'TO', 'TT', 'TV', 'VU', 'AZ', 'BN', 'BI', 'KH', 'CM', 'TD', 'KM', 'GQ', 'SZ', 'GA', 'GN', 'KG', 'LA', 'MO', 'MR', 'MN', 'NP', 'RW', 'TG', 'UZ', 'ZW', 'BJ', 'MG', 'MU', 'MZ', 'AO', 'CI', 'DJ', 'ZM', 'CD', 'CG', 'IQ', 'LY', 'TJ', 'VE', 'ET', 'XK'], 'external_urls': {'spotify': 'https://open.spotify.com/album/3RDqXDc1bAETps54MSSOW0'}, 'href': 'https://api.spotify.com/v1/albums/3RDqXDc1bAETps54MSSOW0', 'id': '3RDqXDc1bAETps54MSSOW0', 'images': [{'url': 'https://i.scdn.co/image/ab67616d0000b2736b18d0490878750cd69abf2c', 'height': 640, 'width': 640}, {'url': 'https://i.scdn.co/image/ab67616d00001e026b18d0490878750cd69abf2c', 'height': 300, 'width': 300}, {'url': 'https://i.scdn.co/image/ab67616d000048516b18d0490878750cd69abf2c', 'height': 64, 'width': 64}], 'is_playable': True, 'name': 'Bangerz (Deluxe Version)', 'release_date': '2013-10-04', 'release_date_precision': 'day', 'total_tracks': 16, 'type': 'album', 'uri': 'spotify:album:3RDqXDc1bAETps54MSSOW0'}, 'artists': [{'external_urls': {'spotify': 'https://open.spotify.com/artist/5YGY8feqx7naU7z4HrwZM6'}, 'href': 'https://api.spotify.com/v1/artists/5YGY8feqx7naU7z4HrwZM6', 'id': '5YGY8feqx7naU7z4HrwZM6', 'name': 'Miley Cyrus', 'type': 'artist', 'uri': 'spotify:artist:5YGY8feqx7naU7z4HrwZM6'}], 'available_markets': ['AR', 'AU', 'AT', 'BE', 'BO', 'BR', 'BG', 'CA', 'CL', 'CO', 'CR', 'CY', 'CZ', 'DK', 'DO', 'DE', 'EC', 'EE', 'SV', 'FI', 'FR', 'GR', 'GT', 'HN', 'HK', 'HU', 'IS', 'IE', 'IT', 'LV', 'LT', 'LU', 'MY', 'MT', 'MX', 'NL', 'NZ', 'NI', 'NO', 'PA', 'PY', 'PE', 'PH', 'PL', 'PT', 'SG', 'SK', 'ES', 'SE', 'CH', 'TW', 'TR', 'UY', 'US', 'GB', 'AD', 'LI', 'MC', 'ID', 'JP', 'TH', 'VN', 'RO', 'IL', 'ZA', 'SA', 'AE', 'BH', 'QA', 'OM', 'KW', 'EG', 'MA', 'DZ', 'TN', 'LB', 'JO', 'PS', 'IN', 'BY', 'KZ', 'MD', 'UA', 'AL', 'BA', 'HR', 'ME', 'MK', 'RS', 'SI', 'KR', 'BD', 'PK', 'LK', 'GH', 'KE', 'NG', 'TZ', 'UG', 'AG', 'AM', 'BS', 'BB', 'BZ', 'BT', 'BW', 'BF', 'CV', 'CW', 'DM', 'FJ', 'GM', 'GE', 'GD', 'GW', 'GY', 'HT', 'JM', 'KI', 'LS', 'LR', 'MW', 'MV', 'ML', 'MH', 'FM', 'NA', 'NR', 'NE', 'PW', 'PG', 'PR', 'WS', 'SM', 'ST', 'SN', 'SC', 'SL', 'SB', 'KN', 'LC', 'VC', 'SR', 'TL', 'TO', 'TT', 'TV', 'VU', 'AZ', 'BN', 'BI', 'KH', 'CM', 'TD', 'KM', 'GQ', 'SZ', 'GA', 'GN', 'KG', 'LA', 'MO', 'MR', 'MN', 'NP', 'RW', 'TG', 'UZ', 'ZW', 'BJ', 'MG', 'MU', 'MZ', 'AO', 'CI', 'DJ', 'ZM', 'CD', 'CG', 'IQ', 'LY', 'TJ', 'VE', 'ET', 'XK'], 'disc_number': 1, 'duration_ms': 221360, 'explicit': False, 'external_ids': {'isrc': 'USRC11301214'}, 'external_urls': {'spotify': 'https://open.spotify.com/track/2vwlzO0Qp8kfEtzTsCXfyE'}, 'href': 'https://api.spotify.com/v1/tracks/2vwlzO0Qp8kfEtzTsCXfyE', 'id': '2vwlzO0Qp8kfEtzTsCXfyE', 'is_local': False, 'is_playable': True, 'name': 'Wrecking Ball', 'popularity': 78, 'preview_url': None, 'track_number': 6, 'type': 'track', 'uri': 'spotify:track:2vwlzO0Qp8kfEtzTsCXfyE'}, {'album': {'album_type': 'compilation', 'artists': [{'external_urls': {'spotify': 'https://open.spotify.com/artist/3xvaSlT4xsyk6lY1ESOspO'}, 'href': 'https://api.spotify.com/v1/artists/3xvaSlT4xsyk6lY1ESOspO', 'id': '3xvaSlT4xsyk6lY1ESOspO', 'name': 'Disney', 'type': 'artist', 'uri': 'spotify:artist:3xvaSlT4xsyk6lY1ESOspO'}], 'available_markets': ['AR', 'AU', 'AT', 'BE', 'BO', 'BR', 'BG', 'CA', 'CL', 'CO', 'CR', 'CY', 'CZ', 'DK', 'DO', 'DE', 'EC', 'EE', 'SV', 'FI', 'FR', 'GR', 'GT', 'HN', 'HK', 'HU', 'IS', 'IE', 'IT', 'LV', 'LT', 'LU', 'MY', 'MT', 'MX', 'NL', 'NZ', 'NI', 'NO', 'PA', 'PY', 'PE', 'PH', 'PL', 'PT', 'SG', 'SK', 'ES', 'SE', 'CH', 'TW', 'TR', 'UY', 'US', 'GB', 'ID', 'JP', 'TH', 'VN', 'RO', 'IL', 'ZA', 'SA', 'AE', 'BH', 'QA', 'OM', 'KW', 'EG', 'MA', 'DZ', 'TN', 'LB', 'JO', 'PS', 'IN', 'UA', 'AL', 'BA', 'HR', 'ME', 'MK', 'RS', 'SI', 'KR', 'LK', 'GH', 'KE', 'NG', 'TZ', 'UG', 'BW', 'BF', 'CV', 'CW', 'GM', 'GW', 'LS', 'LR', 'MW', 'ML', 'NA', 'NE', 'ST', 'SN', 'SC', 'SL', 'TT', 'BI', 'KH', 'CM', 'TD', 'KM', 'GQ', 'SZ', 'GA', 'GN', 'MR', 'RW', 'TG', 'ZW', 'BJ', 'MG', 'MU', 'MZ', 'AO', 'CI', 'DJ', 'ZM', 'CD', 'CG', 'IQ', 'LY', 'VE', 'ET', 'XK'], 'external_urls': {'spotify': 'https://open.spotify.com/album/6IaStDegtGslQ7C2PQRfgl'}, 'href': 'https://api.spotify.com/v1/albums/6IaStDegtGslQ7C2PQRfgl', 'id': '6IaStDegtGslQ7C2PQRfgl', 'images': [{'url': 'https://i.scdn.co/image/ab67616d0000b273a828119557698a89132abb5f', 'height': 640, 'width': 640}, {'url': 'https://i.scdn.co/image/ab67616d00001e02a828119557698a89132abb5f', 'height': 300, 'width': 300}, {'url': 'https://i.scdn.co/image/ab67616d00004851a828119557698a89132abb5f', 'height': 64, 'width': 64}], 'is_playable': True, 'name': 'Disney 2000s, Vol. 1', 'release_date': '2024-04-26', 'release_date_precision': 'day', 'total_tracks': 32, 'type': 'album', 'uri': 'spotify:album:6IaStDegtGslQ7C2PQRfgl'}, 'artists': [{'external_urls': {'spotify': 'https://open.spotify.com/artist/5YGY8feqx7naU7z4HrwZM6'}, 'href': 'https://api.spotify.com/v1/artists/5YGY8feqx7naU7z4HrwZM6', 'id': '5YGY8feqx7naU7z4HrwZM6', 'name': 'Miley Cyrus', 'type': 'artist', 'uri': 'spotify:artist:5YGY8feqx7naU7z4HrwZM6'}], 'available_markets': ['AR', 'AU', 'AT', 'BE', 'BO', 'BR', 'BG', 'CA', 'CL', 'CO', 'CR', 'CY', 'CZ', 'DK', 'DO', 'DE', 'EC', 'EE', 'SV', 'FI', 'FR', 'GR', 'GT', 'HN', 'HK', 'HU', 'IS', 'IE', 'IT', 'LV', 'LT', 'LU', 'MY', 'MT', 'MX', 'NL', 'NZ', 'NI', 'NO', 'PA', 'PY', 'PE', 'PH', 'PL', 'PT', 'SG', 'SK', 'ES', 'SE', 'CH', 'TW', 'TR', 'UY', 'US', 'GB', 'ID', 'JP', 'TH', 'VN', 'RO', 'IL', 'ZA', 'SA', 'AE', 'BH', 'QA', 'OM', 'KW', 'EG', 'MA', 'DZ', 'TN', 'LB', 'JO', 'PS', 'IN', 'UA', 'AL', 'BA', 'HR', 'ME', 'MK', 'RS', 'SI', 'KR', 'LK', 'GH', 'KE', 'NG', 'TZ', 'UG', 'BW', 'BF', 'CV', 'CW', 'GM', 'GW', 'LS', 'LR', 'MW', 'ML', 'NA', 'NE', 'ST', 'SN', 'SC', 'SL', 'TT', 'BI', 'KH', 'CM', 'TD', 'KM', 'GQ', 'SZ', 'GA', 'GN', 'MR', 'RW', 'TG', 'ZW', 'BJ', 'MG', 'MU', 'MZ', 'AO', 'CI', 'DJ', 'ZM', 'CD', 'CG', 'IQ', 'LY', 'VE', 'ET', 'XK'], 'disc_number': 1, 'duration_ms': 236066, 'explicit': False, 'external_ids': {'isrc': 'USWD10935758'}, 'external_urls': {'spotify': 'https://open.spotify.com/track/4lY1aUZ6VaApDv7p7lUtuE'}, 'href': 'https://api.spotify.com/v1/tracks/4lY1aUZ6VaApDv7p7lUtuE', 'id': '4lY1aUZ6VaApDv7p7lUtuE', 'is_local': False, 'is_playable': True, 'name': 'The Climb', 'popularity': 58, 'preview_url': None, 'track_number': 7, 'type': 'track', 'uri': 'spotify:track:4lY1aUZ6VaApDv7p7lUtuE'}, {'album': {'album_type': 'album', 'artists': [{'external_urls': {'spotify': 'https://open.spotify.com/artist/5YGY8feqx7naU7z4HrwZM6'}, 'href': 'https://api.spotify.com/v1/artists/5YGY8feqx7naU7z4HrwZM6', 'id': '5YGY8feqx7naU7z4HrwZM6', 'name': 'Miley Cyrus', 'type': 'artist', 'uri': 'spotify:artist:5YGY8feqx7naU7z4HrwZM6'}], 'available_markets': ['AR', 'AU', 'AT', 'BE', 'BO', 'BR', 'BG', 'CA', 'CL', 'CO', 'CR', 'CY', 'CZ', 'DK', 'DO', 'DE', 'EC', 'EE', 'SV', 'FI', 'FR', 'GR', 'GT', 'HN', 'HK', 'HU', 'IS', 'IE', 'IT', 'LV', 'LT', 'LU', 'MY', 'MT', 'MX', 'NL', 'NZ', 'NI', 'NO', 'PA', 'PY', 'PE', 'PH', 'PL', 'PT', 'SG', 'SK', 'ES', 'SE', 'CH', 'TW', 'TR', 'UY', 'US', 'GB', 'AD', 'LI', 'MC', 'ID', 'JP', 'TH', 'VN', 'RO', 'IL', 'ZA', 'SA', 'AE', 'BH', 'QA', 'OM', 'KW', 'EG', 'MA', 'DZ', 'TN', 'LB', 'JO', 'PS', 'IN', 'BY', 'KZ', 'MD', 'UA', 'AL', 'BA', 'HR', 'ME', 'MK', 'RS', 'SI', 'KR', 'BD', 'PK', 'LK', 'GH', 'KE', 'NG', 'TZ', 'UG', 'AG', 'AM', 'BS', 'BB', 'BZ', 'BT', 'BW', 'BF', 'CV', 'CW', 'DM', 'FJ', 'GM', 'GE', 'GD', 'GW', 'GY', 'HT', 'JM', 'KI', 'LS', 'LR', 'MW', 'MV', 'ML', 'MH', 'FM', 'NA', 'NR', 'NE', 'PW', 'PG', 'PR', 'WS', 'SM', 'ST', 'SN', 'SC', 'SL', 'SB', 'KN', 'LC', 'VC', 'SR', 'TL', 'TO', 'TT', 'TV', 'VU', 'AZ', 'BN', 'BI', 'KH', 'CM', 'TD', 'KM', 'GQ', 'SZ', 'GA', 'GN', 'KG', 'LA', 'MO', 'MR', 'MN', 'NP', 'RW', 'TG', 'UZ', 'ZW', 'BJ', 'MG', 'MU', 'MZ', 'AO', 'CI', 'DJ', 'ZM', 'CD', 'CG', 'IQ', 'LY', 'TJ', 'VE', 'ET', 'XK'], 'external_urls': {'spotify': 'https://open.spotify.com/album/5BRhg6NSEZOj0BR6Iz56fR'}, 'href': 'https://api.spotify.com/v1/albums/5BRhg6NSEZOj0BR6Iz56fR', 'id': '5BRhg6NSEZOj0BR6Iz56fR', 'images': [{'url': 'https://i.scdn.co/image/ab67616d0000b2738cffb7c6c40759eaf8a5a142', 'height': 640, 'width': 640}, {'url': 'https://i.scdn.co/image/ab67616d00001e028cffb7c6c40759eaf8a5a142', 'height': 300, 'width': 300}, {'url': 'https://i.scdn.co/image/ab67616d000048518cffb7c6c40759eaf8a5a142', 'height': 64, 'width': 64}], 'is_playable': True, 'name': 'Plastic Hearts', 'release_date': '2020-11-27', 'release_date_precision': 'day', 'total_tracks': 15, 'type': 'album', 'uri': 'spotify:album:5BRhg6NSEZOj0BR6Iz56fR'}, 'artists': [{'external_urls': {'spotify': 'https://open.spotify.com/artist/5YGY8feqx7naU7z4HrwZM6'}, 'href': 'https://api.spotify.com/v1/artists/5YGY8feqx7naU7z4HrwZM6', 'id': '5YGY8feqx7naU7z4HrwZM6', 'name': 'Miley Cyrus', 'type': 'artist', 'uri': 'spotify:artist:5YGY8feqx7naU7z4HrwZM6'}, {'external_urls': {'spotify': 'https://open.spotify.com/artist/6M2wZ9GZgrQXHCFfjv46we'}, 'href': 'https://api.spotify.com/v1/artists/6M2wZ9GZgrQXHCFfjv46we', 'id': '6M2wZ9GZgrQXHCFfjv46we', 'name': 'Dua Lipa', 'type': 'artist', 'uri': 'spotify:artist:6M2wZ9GZgrQXHCFfjv46we'}], 'available_markets': ['AR', 'AU', 'AT', 'BE', 'BO', 'BR', 'BG', 'CA', 'CL', 'CO', 'CR', 'CY', 'CZ', 'DK', 'DO', 'DE', 'EC', 'EE', 'SV', 'FI', 'FR', 'GR', 'GT', 'HN', 'HK', 'HU', 'IS', 'IE', 'IT', 'LV', 'LT', 'LU', 'MY', 'MT', 'MX', 'NL', 'NZ', 'NI', 'NO', 'PA', 'PY', 'PE', 'PH', 'PL', 'PT', 'SG', 'SK', 'ES', 'SE', 'CH', 'TW', 'TR', 'UY', 'US', 'GB', 'AD', 'LI', 'MC', 'ID', 'JP', 'TH', 'VN', 'RO', 'IL', 'ZA', 'SA', 'AE', 'BH', 'QA', 'OM', 'KW', 'EG', 'MA', 'DZ', 'TN', 'LB', 'JO', 'PS', 'IN', 'BY', 'KZ', 'MD', 'UA', 'AL', 'BA', 'HR', 'ME', 'MK', 'RS', 'SI', 'KR', 'BD', 'PK', 'LK', 'GH', 'KE', 'NG', 'TZ', 'UG', 'AG', 'AM', 'BS', 'BB', 'BZ', 'BT', 'BW', 'BF', 'CV', 'CW', 'DM', 'FJ', 'GM', 'GE', 'GD', 'GW', 'GY', 'HT', 'JM', 'KI', 'LS', 'LR', 'MW', 'MV', 'ML', 'MH', 'FM', 'NA', 'NR', 'NE', 'PW', 'PG', 'PR', 'WS', 'SM', 'ST', 'SN', 'SC', 'SL', 'SB', 'KN', 'LC', 'VC', 'SR', 'TL', 'TO', 'TT', 'TV', 'VU', 'AZ', 'BN', 'BI', 'KH', 'CM', 'TD', 'KM', 'GQ', 'SZ', 'GA', 'GN', 'KG', 'LA', 'MO', 'MR', 'MN', 'NP', 'RW', 'TG', 'UZ', 'ZW', 'BJ', 'MG', 'MU', 'MZ', 'AO', 'CI', 'DJ', 'ZM', 'CD', 'CG', 'IQ', 'LY', 'TJ', 'VE', 'ET', 'XK'], 'disc_number': 1, 'duration_ms': 169333, 'explicit': False, 'external_ids': {'isrc': 'USRC12003364'}, 'external_urls': {'spotify': 'https://open.spotify.com/track/2Oycxb8QbPkpHTo8ZrmG0B'}, 'href': 'https://api.spotify.com/v1/tracks/2Oycxb8QbPkpHTo8ZrmG0B', 'id': '2Oycxb8QbPkpHTo8ZrmG0B', 'is_local': False, 'is_playable': True, 'name': 'Prisoner (feat. Dua Lipa)', 'popularity': 70, 'preview_url': None, 'track_number': 4, 'type': 'track', 'uri': 'spotify:track:2Oycxb8QbPkpHTo8ZrmG0B'}, {'album': {'album_type': 'album', 'artists': [{'external_urls': {'spotify': 'https://open.spotify.com/artist/5YGY8feqx7naU7z4HrwZM6'}, 'href': 'https://api.spotify.com/v1/artists/5YGY8feqx7naU7z4HrwZM6', 'id': '5YGY8feqx7naU7z4HrwZM6', 'name': 'Miley Cyrus', 'type': 'artist', 'uri': 'spotify:artist:5YGY8feqx7naU7z4HrwZM6'}], 'available_markets': ['AR', 'AU', 'AT', 'BE', 'BO', 'BR', 'BG', 'CA', 'CL', 'CO', 'CR', 'CY', 'CZ', 'DK', 'DO', 'DE', 'EC', 'EE', 'SV', 'FI', 'FR', 'GR', 'GT', 'HN', 'HK', 'HU', 'IS', 'IE', 'IT', 'LV', 'LT', 'LU', 'MY', 'MT', 'MX', 'NL', 'NZ', 'NI', 'NO', 'PA', 'PY', 'PE', 'PH', 'PL', 'PT', 'SG', 'SK', 'ES', 'SE', 'CH', 'TW', 'TR', 'UY', 'US', 'GB', 'AD', 'LI', 'MC', 'ID', 'JP', 'TH', 'VN', 'RO', 'IL', 'ZA', 'SA', 'AE', 'BH', 'QA', 'OM', 'KW', 'EG', 'MA', 'DZ', 'TN', 'LB', 'JO', 'PS', 'IN', 'BY', 'KZ', 'MD', 'UA', 'AL', 'BA', 'HR', 'ME', 'MK', 'RS', 'SI', 'KR', 'BD', 'PK', 'LK', 'GH', 'KE', 'NG', 'TZ', 'UG', 'AG', 'AM', 'BS', 'BB', 'BZ', 'BT', 'BW', 'BF', 'CV', 'CW', 'DM', 'FJ', 'GM', 'GE', 'GD', 'GW', 'GY', 'HT', 'JM', 'KI', 'LS', 'LR', 'MW', 'MV', 'ML', 'MH', 'FM', 'NA', 'NR', 'NE', 'PW', 'PG', 'PR', 'WS', 'SM', 'ST', 'SN', 'SC', 'SL', 'SB', 'KN', 'LC', 'VC', 'SR', 'TL', 'TO', 'TT', 'TV', 'VU', 'AZ', 'BN', 'BI', 'KH', 'CM', 'TD', 'KM', 'GQ', 'SZ', 'GA', 'GN', 'KG', 'LA', 'MO', 'MR', 'MN', 'NP', 'RW', 'TG', 'UZ', 'ZW', 'BJ', 'MG', 'MU', 'MZ', 'AO', 'CI', 'DJ', 'ZM', 'CD', 'CG', 'IQ', 'LY', 'TJ', 'VE', 'ET', 'XK'], 'external_urls': {'spotify': 'https://open.spotify.com/album/5DvJgsMLbaR1HmAI6VhfcQ'}, 'href': 'https://api.spotify.com/v1/albums/5DvJgsMLbaR1HmAI6VhfcQ', 'id': '5DvJgsMLbaR1HmAI6VhfcQ', 'images': [{'url': 'https://i.scdn.co/image/ab67616d0000b273cd222052a2594be29a6616b5', 'height': 640, 'width': 640}, {'url': 'https://i.scdn.co/image/ab67616d00001e02cd222052a2594be29a6616b5', 'height': 300, 'width': 300}, {'url': 'https://i.scdn.co/image/ab67616d00004851cd222052a2594be29a6616b5', 'height': 64, 'width': 64}], 'is_playable': True, 'name': 'Endless Summer Vacation', 'release_date': '2023-08-18', 'release_date_precision': 'day', 'total_tracks': 14, 'type': 'album', 'uri': 'spotify:album:5DvJgsMLbaR1HmAI6VhfcQ'}, 'artists': [{'external_urls': {'spotify': 'https://open.spotify.com/artist/5YGY8feqx7naU7z4HrwZM6'}, 'href': 'https://api.spotify.com/v1/artists/5YGY8feqx7naU7z4HrwZM6', 'id': '5YGY8feqx7naU7z4HrwZM6', 'name': 'Miley Cyrus', 'type': 'artist', 'uri': 'spotify:artist:5YGY8feqx7naU7z4HrwZM6'}], 'available_markets': ['AR', 'AU', 'AT', 'BE', 'BO', 'BR', 'BG', 'CA', 'CL', 'CO', 'CR', 'CY', 'CZ', 'DK', 'DO', 'DE', 'EC', 'EE', 'SV', 'FI', 'FR', 'GR', 'GT', 'HN', 'HK', 'HU', 'IS', 'IE', 'IT', 'LV', 'LT', 'LU', 'MY', 'MT', 'MX', 'NL', 'NZ', 'NI', 'NO', 'PA', 'PY', 'PE', 'PH', 'PL', 'PT', 'SG', 'SK', 'ES', 'SE', 'CH', 'TW', 'TR', 'UY', 'US', 'GB', 'AD', 'LI', 'MC', 'ID', 'JP', 'TH', 'VN', 'RO', 'IL', 'ZA', 'SA', 'AE', 'BH', 'QA', 'OM', 'KW', 'EG', 'MA', 'DZ', 'TN', 'LB', 'JO', 'PS', 'IN', 'BY', 'KZ', 'MD', 'UA', 'AL', 'BA', 'HR', 'ME', 'MK', 'RS', 'SI', 'KR', 'BD', 'PK', 'LK', 'GH', 'KE', 'NG', 'TZ', 'UG', 'AG', 'AM', 'BS', 'BB', 'BZ', 'BT', 'BW', 'BF', 'CV', 'CW', 'DM', 'FJ', 'GM', 'GE', 'GD', 'GW', 'GY', 'HT', 'JM', 'KI', 'LS', 'LR', 'MW', 'MV', 'ML', 'MH', 'FM', 'NA', 'NR', 'NE', 'PW', 'PG', 'PR', 'WS', 'SM', 'ST', 'SN', 'SC', 'SL', 'SB', 'KN', 'LC', 'VC', 'SR', 'TL', 'TO', 'TT', 'TV', 'VU', 'AZ', 'BN', 'BI', 'KH', 'CM', 'TD', 'KM', 'GQ', 'SZ', 'GA', 'GN', 'KG', 'LA', 'MO', 'MR', 'MN', 'NP', 'RW', 'TG', 'UZ', 'ZW', 'BJ', 'MG', 'MU', 'MZ', 'AO', 'CI', 'DJ', 'ZM', 'CD', 'CG', 'IQ', 'LY', 'TJ', 'VE', 'ET', 'XK'], 'disc_number': 1, 'duration_ms': 191185, 'explicit': False, 'external_ids': {'isrc': 'USSM12306461'}, 'external_urls': {'spotify': 'https://open.spotify.com/track/41WQUSINanQHfhfKpFDsms'}, 'href': 'https://api.spotify.com/v1/tracks/41WQUSINanQHfhfKpFDsms', 'id': '41WQUSINanQHfhfKpFDsms', 'is_local': False, 'is_playable': True, 'name': 'Used To Be Young', 'popularity': 69, 'preview_url': None, 'track_number': 4, 'type': 'track', 'uri': 'spotify:track:41WQUSINanQHfhfKpFDsms'}, {'album': {'album_type': 'album', 'artists': [{'external_urls': {'spotify': 'https://open.spotify.com/artist/5YGY8feqx7naU7z4HrwZM6'}, 'href': 'https://api.spotify.com/v1/artists/5YGY8feqx7naU7z4HrwZM6', 'id': '5YGY8feqx7naU7z4HrwZM6', 'name': 'Miley Cyrus', 'type': 'artist', 'uri': 'spotify:artist:5YGY8feqx7naU7z4HrwZM6'}], 'available_markets': ['CA', 'US'], 'external_urls': {'spotify': 'https://open.spotify.com/album/64aKkqxc3Ur2LYIKeS5osS'}, 'href': 'https://api.spotify.com/v1/albums/64aKkqxc3Ur2LYIKeS5osS', 'id': '64aKkqxc3Ur2LYIKeS5osS', 'images': [{'url': 'https://i.scdn.co/image/ab67616d0000b273d6c3ad6a2a27471e1d5e8103', 'height': 640, 'width': 640}, {'url': 'https://i.scdn.co/image/ab67616d00001e02d6c3ad6a2a27471e1d5e8103', 'height': 300, 'width': 300}, {'url': 'https://i.scdn.co/image/ab67616d00004851d6c3ad6a2a27471e1d5e8103', 'height': 64, 'width': 64}], 'is_playable': True, 'name': 'The Time Of Our Lives', 'release_date': '2009-01-01', 'release_date_precision': 'day', 'total_tracks': 7, 'type': 'album', 'uri': 'spotify:album:64aKkqxc3Ur2LYIKeS5osS'}, 'artists': [{'external_urls': {'spotify': 'https://open.spotify.com/artist/5YGY8feqx7naU7z4HrwZM6'}, 'href': 'https://api.spotify.com/v1/artists/5YGY8feqx7naU7z4HrwZM6', 'id': '5YGY8feqx7naU7z4HrwZM6', 'name': 'Miley Cyrus', 'type': 'artist', 'uri': 'spotify:artist:5YGY8feqx7naU7z4HrwZM6'}], 'available_markets': ['CA', 'US'], 'disc_number': 1, 'duration_ms': 248586, 'explicit': False, 'external_ids': {'isrc': 'USHR10924540'}, 'external_urls': {'spotify': 'https://open.spotify.com/track/7ywzEdEuVG1lsjsRCGJfLy'}, 'href': 'https://api.spotify.com/v1/tracks/7ywzEdEuVG1lsjsRCGJfLy', 'id': '7ywzEdEuVG1lsjsRCGJfLy', 'is_local': False, 'is_playable': True, 'name': 'When I Look At You', 'popularity': 59, 'preview_url': None, 'track_number': 3, 'type': 'track', 'uri': 'spotify:track:7ywzEdEuVG1lsjsRCGJfLy'}]}\n"
                    ]
                }
            ],
            "source": [
                "artist_id='5YGY8feqx7naU7z4HrwZM6'\n",
                "\n",
                "response= con.artist_top_tracks(artist_id)\n",
                "\n",
                "print(response)"
            ]
        },
        {
            "cell_type": "code",
            "execution_count": 4,
            "metadata": {},
            "outputs": [
                {
                    "name": "stdout",
                    "output_type": "stream",
                    "text": [
                        "Miley Cyrus\n",
                        "[{'duration_ms': 3.3433333333333333, 'name': 'Flowers', 'popularity': 86}, {'duration_ms': 3.367766666666667, 'name': 'Party In The U.S.A.', 'popularity': 74}, {'duration_ms': 3.2742166666666668, 'name': 'Angels Like You', 'popularity': 79}, {'duration_ms': 3.618316666666667, 'name': 'Nothing Breaks Like a Heart (feat. Miley Cyrus)', 'popularity': 76}, {'duration_ms': 3.854, 'name': \"We Can't Stop\", 'popularity': 78}, {'duration_ms': 3.6893333333333334, 'name': 'Wrecking Ball', 'popularity': 78}, {'duration_ms': 3.9344333333333332, 'name': 'The Climb', 'popularity': 58}, {'duration_ms': 2.822216666666667, 'name': 'Prisoner (feat. Dua Lipa)', 'popularity': 70}, {'duration_ms': 3.1864166666666667, 'name': 'Used To Be Young', 'popularity': 69}, {'duration_ms': 4.1431, 'name': 'When I Look At You', 'popularity': 59}]\n"
                    ]
                }
            ],
            "source": [
                "if response: \n",
                "    tracks=response['tracks']\n",
                "    print(tracks[0]['artists'][0]['name'])\n",
                "\n",
                "tracks=[{k:(v/(1000*60)%60) if k=='duration_ms' else v for k,v in track.items()if k in ['name','popularity','duration_ms']} for track in tracks]\n",
                "\n",
                "print(tracks)"
            ]
        },
        {
            "cell_type": "code",
            "execution_count": 8,
            "metadata": {},
            "outputs": [
                {
                    "data": {
                        "text/html": [
                            "<div>\n",
                            "<style scoped>\n",
                            "    .dataframe tbody tr th:only-of-type {\n",
                            "        vertical-align: middle;\n",
                            "    }\n",
                            "\n",
                            "    .dataframe tbody tr th {\n",
                            "        vertical-align: top;\n",
                            "    }\n",
                            "\n",
                            "    .dataframe thead th {\n",
                            "        text-align: right;\n",
                            "    }\n",
                            "</style>\n",
                            "<table border=\"1\" class=\"dataframe\">\n",
                            "  <thead>\n",
                            "    <tr style=\"text-align: right;\">\n",
                            "      <th></th>\n",
                            "      <th>duration_ms</th>\n",
                            "      <th>name</th>\n",
                            "      <th>popularity</th>\n",
                            "    </tr>\n",
                            "  </thead>\n",
                            "  <tbody>\n",
                            "    <tr>\n",
                            "      <th>0</th>\n",
                            "      <td>3.343333</td>\n",
                            "      <td>Flowers</td>\n",
                            "      <td>86</td>\n",
                            "    </tr>\n",
                            "    <tr>\n",
                            "      <th>1</th>\n",
                            "      <td>3.367767</td>\n",
                            "      <td>Party In The U.S.A.</td>\n",
                            "      <td>74</td>\n",
                            "    </tr>\n",
                            "    <tr>\n",
                            "      <th>2</th>\n",
                            "      <td>3.274217</td>\n",
                            "      <td>Angels Like You</td>\n",
                            "      <td>79</td>\n",
                            "    </tr>\n",
                            "    <tr>\n",
                            "      <th>3</th>\n",
                            "      <td>3.618317</td>\n",
                            "      <td>Nothing Breaks Like a Heart (feat. Miley Cyrus)</td>\n",
                            "      <td>76</td>\n",
                            "    </tr>\n",
                            "    <tr>\n",
                            "      <th>4</th>\n",
                            "      <td>3.854000</td>\n",
                            "      <td>We Can't Stop</td>\n",
                            "      <td>78</td>\n",
                            "    </tr>\n",
                            "    <tr>\n",
                            "      <th>5</th>\n",
                            "      <td>3.689333</td>\n",
                            "      <td>Wrecking Ball</td>\n",
                            "      <td>78</td>\n",
                            "    </tr>\n",
                            "    <tr>\n",
                            "      <th>6</th>\n",
                            "      <td>3.934433</td>\n",
                            "      <td>The Climb</td>\n",
                            "      <td>58</td>\n",
                            "    </tr>\n",
                            "    <tr>\n",
                            "      <th>7</th>\n",
                            "      <td>2.822217</td>\n",
                            "      <td>Prisoner (feat. Dua Lipa)</td>\n",
                            "      <td>70</td>\n",
                            "    </tr>\n",
                            "    <tr>\n",
                            "      <th>8</th>\n",
                            "      <td>3.186417</td>\n",
                            "      <td>Used To Be Young</td>\n",
                            "      <td>69</td>\n",
                            "    </tr>\n",
                            "    <tr>\n",
                            "      <th>9</th>\n",
                            "      <td>4.143100</td>\n",
                            "      <td>When I Look At You</td>\n",
                            "      <td>59</td>\n",
                            "    </tr>\n",
                            "  </tbody>\n",
                            "</table>\n",
                            "</div>"
                        ],
                        "text/plain": [
                            "   duration_ms                                             name  popularity\n",
                            "0     3.343333                                          Flowers          86\n",
                            "1     3.367767                              Party In The U.S.A.          74\n",
                            "2     3.274217                                  Angels Like You          79\n",
                            "3     3.618317  Nothing Breaks Like a Heart (feat. Miley Cyrus)          76\n",
                            "4     3.854000                                    We Can't Stop          78\n",
                            "5     3.689333                                    Wrecking Ball          78\n",
                            "6     3.934433                                        The Climb          58\n",
                            "7     2.822217                        Prisoner (feat. Dua Lipa)          70\n",
                            "8     3.186417                                 Used To Be Young          69\n",
                            "9     4.143100                               When I Look At You          59"
                        ]
                    },
                    "execution_count": 8,
                    "metadata": {},
                    "output_type": "execute_result"
                }
            ],
            "source": [
                "tracks_df=pd.DataFrame.from_records(tracks)\n",
                "tracks_df"
            ]
        },
        {
            "cell_type": "code",
            "execution_count": 12,
            "metadata": {},
            "outputs": [
                {
                    "data": {
                        "text/html": [
                            "<div>\n",
                            "<style scoped>\n",
                            "    .dataframe tbody tr th:only-of-type {\n",
                            "        vertical-align: middle;\n",
                            "    }\n",
                            "\n",
                            "    .dataframe tbody tr th {\n",
                            "        vertical-align: top;\n",
                            "    }\n",
                            "\n",
                            "    .dataframe thead th {\n",
                            "        text-align: right;\n",
                            "    }\n",
                            "</style>\n",
                            "<table border=\"1\" class=\"dataframe\">\n",
                            "  <thead>\n",
                            "    <tr style=\"text-align: right;\">\n",
                            "      <th></th>\n",
                            "      <th>duration_ms</th>\n",
                            "      <th>name</th>\n",
                            "      <th>popularity</th>\n",
                            "    </tr>\n",
                            "  </thead>\n",
                            "  <tbody>\n",
                            "    <tr>\n",
                            "      <th>0</th>\n",
                            "      <td>3.343333</td>\n",
                            "      <td>Flowers</td>\n",
                            "      <td>86</td>\n",
                            "    </tr>\n",
                            "    <tr>\n",
                            "      <th>2</th>\n",
                            "      <td>3.274217</td>\n",
                            "      <td>Angels Like You</td>\n",
                            "      <td>79</td>\n",
                            "    </tr>\n",
                            "    <tr>\n",
                            "      <th>5</th>\n",
                            "      <td>3.689333</td>\n",
                            "      <td>Wrecking Ball</td>\n",
                            "      <td>78</td>\n",
                            "    </tr>\n",
                            "    <tr>\n",
                            "      <th>4</th>\n",
                            "      <td>3.854000</td>\n",
                            "      <td>We Can't Stop</td>\n",
                            "      <td>78</td>\n",
                            "    </tr>\n",
                            "    <tr>\n",
                            "      <th>3</th>\n",
                            "      <td>3.618317</td>\n",
                            "      <td>Nothing Breaks Like a Heart (feat. Miley Cyrus)</td>\n",
                            "      <td>76</td>\n",
                            "    </tr>\n",
                            "    <tr>\n",
                            "      <th>1</th>\n",
                            "      <td>3.367767</td>\n",
                            "      <td>Party In The U.S.A.</td>\n",
                            "      <td>74</td>\n",
                            "    </tr>\n",
                            "    <tr>\n",
                            "      <th>7</th>\n",
                            "      <td>2.822217</td>\n",
                            "      <td>Prisoner (feat. Dua Lipa)</td>\n",
                            "      <td>70</td>\n",
                            "    </tr>\n",
                            "    <tr>\n",
                            "      <th>8</th>\n",
                            "      <td>3.186417</td>\n",
                            "      <td>Used To Be Young</td>\n",
                            "      <td>69</td>\n",
                            "    </tr>\n",
                            "    <tr>\n",
                            "      <th>9</th>\n",
                            "      <td>4.143100</td>\n",
                            "      <td>When I Look At You</td>\n",
                            "      <td>59</td>\n",
                            "    </tr>\n",
                            "    <tr>\n",
                            "      <th>6</th>\n",
                            "      <td>3.934433</td>\n",
                            "      <td>The Climb</td>\n",
                            "      <td>58</td>\n",
                            "    </tr>\n",
                            "  </tbody>\n",
                            "</table>\n",
                            "</div>"
                        ],
                        "text/plain": [
                            "   duration_ms                                             name  popularity\n",
                            "0     3.343333                                          Flowers          86\n",
                            "2     3.274217                                  Angels Like You          79\n",
                            "5     3.689333                                    Wrecking Ball          78\n",
                            "4     3.854000                                    We Can't Stop          78\n",
                            "3     3.618317  Nothing Breaks Like a Heart (feat. Miley Cyrus)          76\n",
                            "1     3.367767                              Party In The U.S.A.          74\n",
                            "7     2.822217                        Prisoner (feat. Dua Lipa)          70\n",
                            "8     3.186417                                 Used To Be Young          69\n",
                            "9     4.143100                               When I Look At You          59\n",
                            "6     3.934433                                        The Climb          58"
                        ]
                    },
                    "execution_count": 12,
                    "metadata": {},
                    "output_type": "execute_result"
                }
            ],
            "source": [
                "tracks_df.sort_values(['popularity'],inplace=True,ascending=False)\n",
                "tracks_df"
            ]
        },
        {
            "cell_type": "code",
            "execution_count": 13,
            "metadata": {},
            "outputs": [
                {
                    "data": {
                        "text/html": [
                            "<div>\n",
                            "<style scoped>\n",
                            "    .dataframe tbody tr th:only-of-type {\n",
                            "        vertical-align: middle;\n",
                            "    }\n",
                            "\n",
                            "    .dataframe tbody tr th {\n",
                            "        vertical-align: top;\n",
                            "    }\n",
                            "\n",
                            "    .dataframe thead th {\n",
                            "        text-align: right;\n",
                            "    }\n",
                            "</style>\n",
                            "<table border=\"1\" class=\"dataframe\">\n",
                            "  <thead>\n",
                            "    <tr style=\"text-align: right;\">\n",
                            "      <th></th>\n",
                            "      <th>duration_ms</th>\n",
                            "      <th>name</th>\n",
                            "      <th>popularity</th>\n",
                            "    </tr>\n",
                            "  </thead>\n",
                            "  <tbody>\n",
                            "    <tr>\n",
                            "      <th>0</th>\n",
                            "      <td>3.343333</td>\n",
                            "      <td>Flowers</td>\n",
                            "      <td>86</td>\n",
                            "    </tr>\n",
                            "    <tr>\n",
                            "      <th>2</th>\n",
                            "      <td>3.274217</td>\n",
                            "      <td>Angels Like You</td>\n",
                            "      <td>79</td>\n",
                            "    </tr>\n",
                            "    <tr>\n",
                            "      <th>5</th>\n",
                            "      <td>3.689333</td>\n",
                            "      <td>Wrecking Ball</td>\n",
                            "      <td>78</td>\n",
                            "    </tr>\n",
                            "  </tbody>\n",
                            "</table>\n",
                            "</div>"
                        ],
                        "text/plain": [
                            "   duration_ms             name  popularity\n",
                            "0     3.343333          Flowers          86\n",
                            "2     3.274217  Angels Like You          79\n",
                            "5     3.689333    Wrecking Ball          78"
                        ]
                    },
                    "execution_count": 13,
                    "metadata": {},
                    "output_type": "execute_result"
                }
            ],
            "source": [
                "tracks_df.head(3)"
            ]
        },
        {
            "cell_type": "code",
            "execution_count": null,
            "metadata": {},
            "outputs": [
                {
                    "data": {
                        "image/png": "[encoded data removed]",
                        "text/plain": [
                            "<Figure size 640x480 with 1 Axes>"
                        ]
                    },
                    "metadata": {},
                    "output_type": "display_data"
                }
            ],
            "source": [
                "import seaborn as sns\n",
                "\n",
                "scatter_plot= sns.scatterplot(data=tracks_df,x='popularity', y='duration_ms')\n",
                "\n",
                "fig=scatter_plot.get_figure()\n",
                "fig.savefig('scatter_plot.png')\n",
                "#no hay relacion con la duracion con la cancion"
            ]
        }
    ],
    "metadata": {
        "kernelspec": {
            "display_name": ".venv",
            "language": "python",
            "name": "python3"
        },
        "language_info": {
            "codemirror_mode": {
                "name": "ipython",
                "version": 3
            },
            "file_extension": ".py",
            "mimetype": "text/x-python",
            "name": "python",
            "nbconvert_exporter": "python",
            "pygments_lexer": "ipython3",
            "version": "3.11.4"
        },
        "orig_nbformat": 4
    },
    "nbformat": 4,
    "nbformat_minor": 2
}
